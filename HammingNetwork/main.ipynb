{
 "cells": [
  {
   "cell_type": "code",
   "execution_count": 3,
   "metadata": {
    "collapsed": true
   },
   "outputs": [],
   "source": [
    "from typing import List\n",
    "import random\n",
    "\n",
    "import matplotlib.pyplot as plt\n",
    "from pandas import Series\n",
    "%matplotlib inline"
   ]
  },
  {
   "cell_type": "code",
   "execution_count": 4,
   "metadata": {},
   "outputs": [],
   "source": [
    "class InputNeuron:\n",
    "    def __init__(self):\n",
    "        self._value = None\n",
    "\n",
    "    @property\n",
    "    def value(self):\n",
    "        return self._value\n",
    "\n",
    "    @value.setter\n",
    "    def value(self, value):\n",
    "        self._value = value"
   ]
  },
  {
   "cell_type": "code",
   "execution_count": 5,
   "metadata": {},
   "outputs": [],
   "source": [
    "class MaxNetNeuron:\n",
    "    e = 1/6\n",
    "\n",
    "    def __init__(self, inp: 'HammingNeuron'):\n",
    "        self._input = inp\n",
    "        self._inputs = None\n",
    "        self._value = None\n",
    "\n",
    "    def set_inputs(self, inputs: List['MaxNetNeuron']):\n",
    "        self._inputs = [i for i in inputs if self != i]\n",
    "\n",
    "    @property\n",
    "    def value(self):\n",
    "        return self._value if self._value is not None else self._input.value\n",
    "\n",
    "    @property\n",
    "    def new_value(self):\n",
    "        value = self.value-self.e*sum(inp.value for inp in self._inputs)\n",
    "        return value if value > 0 else 0\n",
    "\n",
    "    @value.setter\n",
    "    def value(self, value):\n",
    "        self._value = value"
   ]
  },
  {
   "cell_type": "code",
   "execution_count": 6,
   "metadata": {},
   "outputs": [],
   "source": [
    "class HammingNeuron:\n",
    "    k = 0.1\n",
    "    U = 1 / k\n",
    "\n",
    "    def __init__(self, inputs: List[InputNeuron], weights: List[float]):\n",
    "        self.inputs = inputs\n",
    "        self.weights = weights\n",
    "\n",
    "    @property\n",
    "    def value(self):\n",
    "        u_in = len(self.inputs) / 2 + sum(inp.value * weight for inp, weight in zip(self.inputs, self.weights))\n",
    "\n",
    "        if u_in < 0:\n",
    "            return 0\n",
    "        elif 0 <= u_in <= self.U:\n",
    "            return u_in * self.k\n",
    "        else:\n",
    "            return u_in"
   ]
  },
  {
   "cell_type": "code",
   "execution_count": 8,
   "metadata": {},
   "outputs": [],
   "source": [
    "class Network:\n",
    "    def __init__(self, examples: list):\n",
    "        self.input_layer = [InputNeuron() for i in range(0, len(examples[0]))]\n",
    "        self.hamming_layer = [HammingNeuron(inputs=self.input_layer,\n",
    "                                            weights=[(1 if cell != \" \" else -1) / 2 for cell in example])\n",
    "                              for example in examples]\n",
    "        self.max_net_layer = [MaxNetNeuron(inp) for inp in self.hamming_layer]\n",
    "        for n in self.max_net_layer:\n",
    "            n.set_inputs(self.max_net_layer)\n",
    "\n",
    "    def run(self, example):\n",
    "        # Устанавливаем состояния входных нейронов\n",
    "        for inp_neuron, cell in zip(self.input_layer, example):\n",
    "            inp_neuron.value = (1 if cell != \" \" else -1)\n",
    "\n",
    "        # Выходные значения сети Хемминга\n",
    "        \n",
    "        print(\" \".join([f\"{i.value:.2f}\" for i in self.hamming_layer]))\n",
    "        ts = Series([i.value for i in self.hamming_layer], index=x_ax)\n",
    "        ts.plot(kind='bar', figsize=(15, 1), color=\"black\")\n",
    "        plt.show()\n",
    "\n",
    "        # Итерационный процесс MaxNet сети\n",
    "        while True:\n",
    "            new_values = [n.new_value for n in self.max_net_layer]\n",
    "\n",
    "            if [n.value for n in self.max_net_layer] == new_values:\n",
    "                break\n",
    "\n",
    "            for n, new_value in zip(self.max_net_layer, new_values):\n",
    "                n.value = new_value\n",
    "\n",
    "            print(\" \".join([f\"{i.value:.2f}\" for i in self.max_net_layer]))\n",
    "            t = Series([i.value for i in self.max_net_layer], index=x_ax)\n",
    "            t.plot(kind='bar', figsize=(15, 1), color=\"black\")\n",
    "            plt.show()\n"
   ]
  },
  {
   "cell_type": "code",
   "execution_count": 9,
   "metadata": {},
   "outputs": [],
   "source": [
    "train_examples = [\n",
    "    \"####### \"\n",
    "    \"##    ##\"\n",
    "    \"##    ##\"\n",
    "    \"##    ##\"\n",
    "    \"##    ##\"\n",
    "    \"##    ##\"\n",
    "    \"####### \",\n",
    "\n",
    "    \"########\"\n",
    "    \"##      \"\n",
    "    \"##      \"\n",
    "    \"######  \"\n",
    "    \"##      \"\n",
    "    \"##      \"\n",
    "    \"########\",\n",
    "\n",
    "    \"##    ##\"\n",
    "    \"###   ##\"\n",
    "    \"####  ##\"\n",
    "    \"## ## ##\"\n",
    "    \"##  ####\"\n",
    "    \"##   ###\"\n",
    "    \"##    ##\",\n",
    "\n",
    "    \"  ####  \"\n",
    "    \"   ##   \"\n",
    "    \"   ##   \"\n",
    "    \"   ##   \"\n",
    "    \"   ##   \"\n",
    "    \"   ##   \"\n",
    "    \"  ####  \",\n",
    "\n",
    "    \" ###### \"\n",
    "    \"##    ##\"\n",
    "    \"##      \"\n",
    "    \" ###### \"\n",
    "    \"      ##\"\n",
    "    \"##    ##\"\n",
    "    \" ###### \",\n",
    "\n",
    "    \"##....##\"\n",
    "    \"###..###\"\n",
    "    \"########\"\n",
    "    \"##.##.##\"\n",
    "    \"##....##\"\n",
    "    \"##....##\"\n",
    "    \"##....##\"\n",
    "]\n",
    "x_ax = [\"D\", \"E\", \"N\", \"I\", \"S\", \"M\"]\n"
   ]
  },
  {
   "cell_type": "code",
   "execution_count": 10,
   "metadata": {},
   "outputs": [],
   "source": [
    "def noisy(example,level):\n",
    "    new_example = \"\"\n",
    "    for i in range(0, len(example)):\n",
    "        if random.random() < level:\n",
    "            new_example += random.choice([\" \", \"#\"])\n",
    "        else:\n",
    "            new_example+= example[i]\n",
    "    return new_example"
   ]
  },
  {
   "cell_type": "code",
   "execution_count": 19,
   "metadata": {},
   "outputs": [
    {
     "name": "stdout",
     "output_type": "stream",
     "text": [
      "## #### \n## #  ##\n## # # #\n##    ##\n##    ##\n  ## ###\n# ###   \n\n43.00 29.00 33.00 23.00 33.00 33.00\n"
     ]
    },
    {
     "data": {
      "image/png": "[encoded data removed]",
      "text/plain": [
       "<Figure size 1080x72 with 1 Axes>"
      ]
     },
     "metadata": {},
     "output_type": "display_data"
    },
    {
     "name": "stdout",
     "output_type": "stream",
     "text": [
      "17.83 1.50 6.17 0.00 6.17 6.17"
     ]
    },
    {
     "name": "stdout",
     "output_type": "stream",
     "text": [
      "\n"
     ]
    },
    {
     "data": {
      "image/png": "[encoded data removed]",
      "text/plain": [
       "<Figure size 1080x72 with 1 Axes>"
      ]
     },
     "metadata": {},
     "output_type": "display_data"
    },
    {
     "name": "stdout",
     "output_type": "stream",
     "text": [
      "14.50 0.00 0.89 0.00 0.89 0.89\n"
     ]
    },
    {
     "data": {
      "image/png": "[encoded data removed]",
      "text/plain": [
       "<Figure size 1080x72 with 1 Axes>"
      ]
     },
     "metadata": {},
     "output_type": "display_data"
    },
    {
     "name": "stdout",
     "output_type": "stream",
     "text": [
      "14.06 0.00 0.00 0.00 0.00 0.00\n"
     ]
    },
    {
     "data": {
      "image/png": "[encoded data removed]",
      "text/plain": [
       "<Figure size 1080x72 with 1 Axes>"
      ]
     },
     "metadata": {},
     "output_type": "display_data"
    }
   ],
   "source": [
    "network = Network(train_examples)\n",
    "# ex = train_examples[2]\n",
    "example = noisy(train_examples[0], 0.4)\n",
    "print(\"\\n\".join(example[i*8:i*8+8] for i in range(8)))\n",
    "# print(\"\\n\".join(example[i*8:i*8+8] for i in range(8)))\n",
    "network.run(example)"
   ]
  },
  {
   "cell_type": "code",
   "execution_count": null,
   "metadata": {},
   "outputs": [],
   "source": []
  }
 ],
 "metadata": {
  "kernelspec": {
   "display_name": "Python 2",
   "language": "python",
   "name": "python2"
  },
  "language_info": {
   "codemirror_mode": {
    "name": "ipython",
    "version": 2
   },
   "file_extension": ".py",
   "mimetype": "text/x-python",
   "name": "python",
   "nbconvert_exporter": "python",
   "pygments_lexer": "ipython2",
   "version": "2.7.6"
  }
 },
 "nbformat": 4,
 "nbformat_minor": 0
}
