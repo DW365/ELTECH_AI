{
 "cells": [
  {
   "cell_type": "code",
   "execution_count": 1,
   "metadata": {},
   "outputs": [],
   "source": [
    "import copy\n",
    "from itertools import combinations\n",
    "\n",
    "import ipywidgets as widgets\n",
    "import matplotlib.pyplot as plt\n",
    "import numpy as np\n",
    "from IPython.display import display\n",
    "from ipywidgets import interact\n",
    "from numpy import arange, mean\n",
    "from pylab import meshgrid, cm\n",
    "%matplotlib inline"
   ]
  },
  {
   "cell_type": "code",
   "execution_count": null,
   "metadata": {},
   "outputs": [],
   "source": [
    "def function(a,b):\n",
    "    index = func_selector.options.index(func_selector.value)\n",
    "    if index == 0:\n",
    "        return (a-2)**4+(a-2*b)**2\n",
    "    if index == 1:\n",
    "        return -12*b+4*a**2+4*b**2-4*a*b\n",
    "    if index == 2:\n",
    "        return 8*a**2+4*a*b+5*b**2"
   ]
  },
  {
   "cell_type": "code",
   "execution_count": 3,
   "metadata": {},
   "outputs": [],
   "source": [
    "def plot(population):\n",
    "#     plt.clf()\n",
    "    x = arange(-1,3,0.05)\n",
    "    y = arange(-1,3,0.05)\n",
    "    X,Y = meshgrid(x, y)\n",
    "    Z = function(X, Y)\n",
    "    fig, ax = plt.subplots(figsize=(10,10))\n",
    "    im = ax.imshow(Z,cmap=cm.viridis,origin='lower',extent=(-1,3,-1,3))\n",
    "    cset = ax.contour(Z,arange(0,500,1),linewidths=0.5,cmap=cm.Greys,extent=(-1,3,-1,3))\n",
    "    ax.plot([i[0] for i in population],[i[1] for i in population],\"o\",color='red')\n",
    "    plt.show()"
   ]
  },
  {
   "cell_type": "code",
   "execution_count": 9,
   "metadata": {},
   "outputs": [],
   "source": [
    "class GeneticEvolution:\n",
    "    def __init__(self, func, pop_size, mut_prob, cross_prob):\n",
    "        self.func = func\n",
    "        self.pop_size = pop_size\n",
    "        self.population = []\n",
    "        self.mutation_probability = mut_prob\n",
    "        self.cross_prob = cross_prob\n",
    "        self.history = []\n",
    "        \n",
    "    def build_plot(self, step):\n",
    "        plot(self.history[step])\n",
    "\n",
    "    # начальная случайная популяция\n",
    "    def generate_random_population(self):\n",
    "        self.population = ((np.random.rand(self.pop_size, 2)-0.5)*2).tolist()\n",
    "\n",
    "    # инициализация поиска\n",
    "    def initialize(self):\n",
    "        self.history = []\n",
    "        self.generate_random_population()\n",
    "\n",
    "    # основная функция \n",
    "    def evolute(self, n_steps):\n",
    "        n = 0\n",
    "        progress.value = 0\n",
    "        self.history.append(copy.copy(self.population))\n",
    "        while n < n_steps:\n",
    "            n+=1\n",
    "            progress.value = 100*n_steps/n\n",
    "            newpopulation = copy.copy(self.population)\n",
    "            for comb in combinations(range(len(self.population)), 2):\n",
    "                a = self.mutate(self.population[comb[0]])\n",
    "                b = self.mutate(self.population[comb[1]])\n",
    "                newitem = self.crossover(a, b)\n",
    "                newpopulation.append(newitem)\n",
    "            self.population = self.killing(newpopulation)\n",
    "            self.history.append(copy.copy(self.population))\n",
    "        return mean([i[0] for i in self.population]), mean([i[1] for i in self.population])\n",
    "\n",
    "    def killing(self, population):\n",
    "        res = np.argsort([self.func(*item) for item in population])\n",
    "        res = res[:self.pop_size]\n",
    "        return np.array(population)[res].tolist()\n",
    "\n",
    "    def crossover(self, a, b):\n",
    "        if np.random.rand() <= self.cross_prob:\n",
    "            if np.random.rand() <= 0.5:\n",
    "                return [a[0], b[1]]\n",
    "            else:\n",
    "                return [b[0], a[1]]\n",
    "        else:\n",
    "            if np.random.rand() <= 0.5:\n",
    "                return [a[0], a[1]]\n",
    "            else:\n",
    "                return [b[0], b[1]]\n",
    "\n",
    "    def mutate(self, a):\n",
    "        if np.random.rand() <= self.mutation_probability:\n",
    "            newa = a + (np.random.rand(2) - 0.5) * 0.05\n",
    "        else:\n",
    "            newa = a\n",
    "        return newa\n",
    "\n"
   ]
  },
  {
   "cell_type": "code",
   "execution_count": 12,
   "metadata": {},
   "outputs": [
    {
     "data": {
      "text/plain": [
       "Dropdown(description='Функция:', options=('(a-2)^4+(a-2b)^2 [2;1]', '-12b+4a^2+4b^2-4ab [1;2]', '8a^2+4ab+5b^2…"
      ]
     },
     "metadata": {},
     "output_type": "display_data"
    },
    {
     "data": {
      "text/plain": [
       "IntText(value=50, description='Размер популяции:')"
      ]
     },
     "metadata": {},
     "output_type": "display_data"
    },
    {
     "data": {
      "text/plain": [
       "IntText(value=100, description='Кол-во шагов:')"
      ]
     },
     "metadata": {},
     "output_type": "display_data"
    },
    {
     "data": {
      "text/plain": [
       "FloatText(value=0.1, description='Вероятность мутации:')"
      ]
     },
     "metadata": {},
     "output_type": "display_data"
    },
    {
     "data": {
      "text/plain": [
       "FloatText(value=0.5, description='Вероятность скрещивания:')"
      ]
     },
     "metadata": {},
     "output_type": "display_data"
    },
    {
     "data": {
      "text/plain": [
       "Button(description='Старт', style=ButtonStyle())"
      ]
     },
     "metadata": {},
     "output_type": "display_data"
    },
    {
     "data": {
      "text/plain": [
       "IntProgress(value=0, description='Прогресс:')"
      ]
     },
     "metadata": {},
     "output_type": "display_data"
    },
    {
     "data": {
      "text/plain": [
       "interactive(children=(IntSlider(value=0, description='Шаг:', max=101), Output()), _dom_classes=('widget-intera…"
      ]
     },
     "metadata": {},
     "output_type": "display_data"
    },
    {
     "name": "stdout",
     "output_type": "stream",
     "text": [
      "Результат оптимизации: -0.00 0.00\n"
     ]
    }
   ],
   "source": [
    "func_selector = widgets.Dropdown(\n",
    "    options=['(a-2)^4+(a-2b)^2 [2;1]', '-12b+4a^2+4b^2-4ab [1;2]', '8a^2+4ab+5b^2 [0;0]'],\n",
    "    description='Функция:'\n",
    ")\n",
    "\n",
    "population_size = widgets.IntText(\n",
    "    value=50,\n",
    "    description='Размер популяции:',\n",
    "    disabled=False\n",
    ")\n",
    "steps_count = widgets.IntText(\n",
    "    value=100,\n",
    "    description='Кол-во шагов:',\n",
    "    disabled=False\n",
    ")\n",
    "mutation_probability = widgets.FloatText(\n",
    "    value=0.1,\n",
    "    description='Вероятность мутации:',\n",
    "    disabled=False\n",
    ")\n",
    "cross_probability = widgets.FloatText(\n",
    "    value=0.5,\n",
    "    description='Вероятность скрещивания:',\n",
    "    disabled=False\n",
    ")\n",
    "start = widgets.Button(\n",
    "    description='Старт'\n",
    ")\n",
    "progress = widgets.IntProgress(\n",
    "    value=0,\n",
    "    min=0,\n",
    "    max=100,\n",
    "    step=1,\n",
    "    description='Прогресс:',\n",
    "    bar_style='',\n",
    "    orientation='horizontal'\n",
    ")\n",
    "\n",
    "def on_button_clicked(b):\n",
    "    g = GeneticEvolution(function, \n",
    "                     population_size.value, \n",
    "                     mutation_probability.value, cross_probability.value)\n",
    "    g.initialize()\n",
    "    res = g.evolute(steps_count.value)\n",
    "    interact(g.build_plot,step=widgets.IntSlider(min=0,max=len(g.history),step=1,value=0,description=\"Шаг:\"))\n",
    "    print(f'Результат оптимизации: {res[0]:.2f} {res[1]:.2f}')\n",
    "\n",
    "display(func_selector)\n",
    "start.on_click(on_button_clicked)\n",
    "display(population_size)\n",
    "display(steps_count)\n",
    "display(mutation_probability)\n",
    "display(cross_probability)\n",
    "display(start)\n",
    "display(progress)"
   ]
  },
  {
   "cell_type": "code",
   "execution_count": null,
   "metadata": {},
   "outputs": [],
   "source": []
  }
 ],
 "metadata": {
  "kernelspec": {
   "display_name": "Python 3",
   "language": "python",
   "name": "python3"
  },
  "language_info": {
   "codemirror_mode": {
    "name": "ipython",
    "version": 3
   },
   "file_extension": ".py",
   "mimetype": "text/x-python",
   "name": "python",
   "nbconvert_exporter": "python",
   "pygments_lexer": "ipython3",
   "version": "3.6.5"
  }
 },
 "nbformat": 4,
 "nbformat_minor": 1
}
