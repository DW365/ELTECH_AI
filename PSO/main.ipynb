{
 "cells": [
  {
   "cell_type": "code",
   "execution_count": 1,
   "metadata": {},
   "outputs": [],
   "source": [
    "import copy\n",
    "from itertools import combinations\n",
    "\n",
    "import ipywidgets as widgets\n",
    "import matplotlib.pyplot as plt\n",
    "import numpy as np\n",
    "from IPython.display import display\n",
    "from ipywidgets import interact\n",
    "from numpy import arange, mean\n",
    "from pylab import meshgrid, cm\n",
    "import numpy as np\n",
    "import random as rand\n",
    "import matplotlib.pyplot as plt\n",
    "%matplotlib inline"
   ]
  },
  {
   "cell_type": "code",
   "execution_count": 2,
   "metadata": {},
   "outputs": [],
   "source": [
    "def function(a,b):\n",
    "    index = func_selector.options.index(func_selector.value)\n",
    "    if index == 0:\n",
    "        return (a-2)**4+(a-2*b)**2\n",
    "    if index == 1:\n",
    "        return -12*b+4*a**2+4*b**2-4*a*b\n",
    "    if index == 2:\n",
    "        return 8*a**2+4*a*b+5*b**2"
   ]
  },
  {
   "cell_type": "code",
   "execution_count": 3,
   "metadata": {},
   "outputs": [],
   "source": [
    "def plot(population):\n",
    "    x = arange(-5,8,0.1)\n",
    "    y = arange(-5,8,0.1)\n",
    "    X,Y = meshgrid(x, y)\n",
    "    Z = function(X, Y)\n",
    "    fig, ax = plt.subplots(figsize=(10,10))\n",
    "    im = ax.imshow(Z,cmap=cm.viridis,origin='lower',extent=(-5,8,-5,8))\n",
    "    cset = ax.contour(Z,arange(0,500,5),linewidths=0.5,cmap=cm.Greys,extent=(-5,8,-5,8))\n",
    "    ax.plot(population[0],population[1],\"+\",color='red')\n",
    "    plt.show()"
   ]
  },
  {
   "cell_type": "code",
   "execution_count": 4,
   "metadata": {},
   "outputs": [],
   "source": [
    "def sort(Pbest, r, n):\n",
    "    for i in range(1, n):\n",
    "        for j in range(0, n - 1):\n",
    "                tempRes = r[j]\n",
    "                r[j] = r[j + 1]\n",
    "                r[j + 1] = tempRes\n",
    "                \n",
    "                tempX = Pbest[0][j]\n",
    "                Pbest[0][j] = Pbest[0][j + 1]\n",
    "                Pbest[0][j + 1] = tempX\n",
    "\n",
    "                tempY = Pbest[1][j]\n",
    "                Pbest[1][j] = Pbest[1][j + 1]\n",
    "                Pbest[1][j + 1] = tempY"
   ]
  },
  {
   "cell_type": "code",
   "execution_count": 5,
   "metadata": {},
   "outputs": [],
   "source": [
    "def vect_velocity(n, a, Pbest, Gbest, v):\n",
    "    for i in range(n):\n",
    "        # X\n",
    "        v[0][i] = 0.7 * v[0][i] + (Pbest[0][i] - a[0][i]) * rand.random() * 1.47 + (\n",
    "                    Gbest[0][0] - a[0][i]) * rand.random() * 1.47\n",
    "        a[0][i] = a[0][i] + v[0][i]\n",
    "        # Y\n",
    "        v[1][i] = 0.7 * v[1][i] + (Pbest[1][i] - a[1][i]) * rand.random() * 1.47 + (\n",
    "                    Gbest[0][1] - a[1][i]) * rand.random() * 1.47\n",
    "        a[1][i] = a[1][i] + v[1][i]"
   ]
  },
  {
   "cell_type": "code",
   "execution_count": 9,
   "metadata": {},
   "outputs": [],
   "source": [
    "def PSO():\n",
    "    num_variables = 2\n",
    "    n = population_size.value\n",
    "    a = np.empty((num_variables, n))\n",
    "    v = np.empty((num_variables, n))\n",
    "    Pbest = np.empty((num_variables, n))\n",
    "    Gbest = np.empty((1, 2))\n",
    "    r = np.empty((n))\n",
    "\n",
    "    for i in range(0, num_variables):\n",
    "        for j in range(0, n):\n",
    "            Pbest[i][j] = rand.randint(-2, 5)\n",
    "            a[i][j] = Pbest[i][j]\n",
    "            v[i][j] = 0\n",
    "\n",
    "    for i in range(0, n):\n",
    "        r[i] = function(a[0][i], a[1][i])\n",
    "\n",
    "    sort(Pbest, r, n)\n",
    "\n",
    "    Gbest[0][0] = Pbest[0][0]\n",
    "    Gbest[0][1] = Pbest[1][0]\n",
    "\n",
    "    generation = 0\n",
    "\n",
    "    history.append((copy.copy(a[0]), copy.copy(a[1])))\n",
    "    while (generation < steps_count.value):\n",
    "        progress.value=generation+1\n",
    "        for i in range(n):\n",
    "            if (function(a[0][i], a[1][i]) < function(Pbest[0][i], Pbest[1][i])):\n",
    "                Pbest[0][i] = a[0][i]\n",
    "                Pbest[1][i] = a[1][i]\n",
    "            if (function(Pbest[0][i], Pbest[1][i]) < function(Gbest[0][0], Gbest[0][1])):\n",
    "                Gbest[0][0] = Pbest[0][i]\n",
    "                Gbest[0][1] = Pbest[1][i]\n",
    "            vect_velocity(n, a, Pbest, Gbest, v)\n",
    "        generation = generation + 1\n",
    "#         print('Generacion: ' + str(generation) + ' - - - Gbest: ' + str(Gbest))\n",
    "        history.append((copy.copy(a[0]), copy.copy(a[1])))\n",
    "    return Gbest[0]"
   ]
  },
  {
   "cell_type": "code",
   "execution_count": 10,
   "metadata": {},
   "outputs": [
    {
     "data": {
      "application/vnd.jupyter.widget-view+json": {
       "model_id": "6c91a5cedf7c43b4a17ca04667997241",
       "version_major": 2,
       "version_minor": 0
      },
      "text/plain": [
       "Dropdown(description='Функция:', options=('(a-2)^4+(a-2b)^2 [2;1]', '-12b+4a^2+4b^2-4ab [1;2]', '8a^2+4ab+5b^2…"
      ]
     },
     "metadata": {},
     "output_type": "display_data"
    },
    {
     "data": {
      "application/vnd.jupyter.widget-view+json": {
       "model_id": "2d25ef57a0c845c893793ba1fc9e5367",
       "version_major": 2,
       "version_minor": 0
      },
      "text/plain": [
       "IntText(value=50, description='Размер популяции:')"
      ]
     },
     "metadata": {},
     "output_type": "display_data"
    },
    {
     "data": {
      "application/vnd.jupyter.widget-view+json": {
       "model_id": "ac5f5f998f5b409baf881adca9cc6f8f",
       "version_major": 2,
       "version_minor": 0
      },
      "text/plain": [
       "IntText(value=50, description='Кол-во шагов:')"
      ]
     },
     "metadata": {},
     "output_type": "display_data"
    },
    {
     "data": {
      "application/vnd.jupyter.widget-view+json": {
       "model_id": "aa461fdffd9145d888373aa6094cb80e",
       "version_major": 2,
       "version_minor": 0
      },
      "text/plain": [
       "Button(description='Старт', style=ButtonStyle())"
      ]
     },
     "metadata": {},
     "output_type": "display_data"
    },
    {
     "data": {
      "application/vnd.jupyter.widget-view+json": {
       "model_id": "92d1a5b2cf2d48efa3797e9ac8c4f0c5",
       "version_major": 2,
       "version_minor": 0
      },
      "text/plain": [
       "IntProgress(value=0, description='Прогресс:')"
      ]
     },
     "metadata": {},
     "output_type": "display_data"
    },
    {
     "data": {
      "application/vnd.jupyter.widget-view+json": {
       "model_id": "8c6bc4406b37415b8c095d39b227cb33",
       "version_major": 2,
       "version_minor": 0
      },
      "text/plain": [
       "interactive(children=(IntSlider(value=1, description='Шаг:', max=51, min=1), Output()), _dom_classes=('widget-…"
      ]
     },
     "metadata": {},
     "output_type": "display_data"
    },
    {
     "name": "stdout",
     "output_type": "stream",
     "text": [
      "Результат оптимизации: 2.00 1.00\n"
     ]
    },
    {
     "data": {
      "application/vnd.jupyter.widget-view+json": {
       "model_id": "92d1a5b2cf2d48efa3797e9ac8c4f0c5",
       "version_major": 2,
       "version_minor": 0
      },
      "text/plain": [
       "IntProgress(value=50, description='Прогресс:', max=50)"
      ]
     },
     "metadata": {},
     "output_type": "display_data"
    },
    {
     "data": {
      "application/vnd.jupyter.widget-view+json": {
       "model_id": "eb9ba14dd3cf4bbfa8ef235b40ebaf4d",
       "version_major": 2,
       "version_minor": 0
      },
      "text/plain": [
       "interactive(children=(IntSlider(value=1, description='Шаг:', max=51, min=1), Output()), _dom_classes=('widget-…"
      ]
     },
     "metadata": {},
     "output_type": "display_data"
    },
    {
     "name": "stdout",
     "output_type": "stream",
     "text": [
      "Результат оптимизации: 0.00 0.00\n"
     ]
    }
   ],
   "source": [
    "func_selector = widgets.Dropdown(\n",
    "    options=['(a-2)^4+(a-2b)^2 [2;1]', '-12b+4a^2+4b^2-4ab [1;2]', '8a^2+4ab+5b^2 [0;0]'],\n",
    "    description='Функция:'\n",
    ")\n",
    "\n",
    "population_size = widgets.IntText(\n",
    "    value=50,\n",
    "    description='Размер популяции:',\n",
    "    disabled=False\n",
    ")\n",
    "steps_count = widgets.IntText(\n",
    "    value=50,\n",
    "    description='Кол-во шагов:',\n",
    "    disabled=False\n",
    ")\n",
    "start = widgets.Button(\n",
    "    description='Старт'\n",
    ")\n",
    "progress = widgets.IntProgress(\n",
    "    value=0,\n",
    "    min=0,\n",
    "    max=100,\n",
    "    step=1,\n",
    "    description='Прогресс:',\n",
    "    bar_style='',\n",
    "    orientation='horizontal'\n",
    ")\n",
    "\n",
    "def build_plot(step):\n",
    "    plot(history[step-1])\n",
    "history =[]\n",
    "\n",
    "progress = widgets.IntProgress(\n",
    "    value=0,\n",
    "    min=0,\n",
    "    max=100,\n",
    "    step=1,\n",
    "    description='Прогресс:',\n",
    "    bar_style='',\n",
    "    orientation='horizontal'\n",
    ")\n",
    "\n",
    "def on_button_clicked(b):\n",
    "    display(progress)\n",
    "    progress.max=steps_count.value\n",
    "    global history\n",
    "    history = []\n",
    "    res = PSO()\n",
    "    interact(build_plot,step=widgets.IntSlider(min=1,max=len(history),step=1,value=1,description=\"Шаг:\"))\n",
    "    print(f'Результат оптимизации: {res[0]:.2f} {res[1]:.2f}')\n",
    "\n",
    "display(func_selector)\n",
    "start.on_click(on_button_clicked)\n",
    "display(population_size)\n",
    "display(steps_count)\n",
    "display(start)"
   ]
  }
 ],
 "metadata": {
  "kernelspec": {
   "display_name": "Python 3",
   "language": "python",
   "name": "python3"
  },
  "language_info": {
   "codemirror_mode": {
    "name": "ipython",
    "version": 3
   },
   "file_extension": ".py",
   "mimetype": "text/x-python",
   "name": "python",
   "nbconvert_exporter": "python",
   "pygments_lexer": "ipython3",
   "version": "3.6.5"
  }
 },
 "nbformat": 4,
 "nbformat_minor": 1
}
