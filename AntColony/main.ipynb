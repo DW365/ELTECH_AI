{
 "cells": [
  {
   "cell_type": "code",
   "execution_count": 1,
   "metadata": {},
   "outputs": [],
   "source": [
    "import math\n",
    "\n",
    "from AntColony.aco import ACO, Graph\n",
    "import matplotlib.pyplot as plt\n",
    "import ipywidgets as widgets\n",
    "import matplotlib.pyplot as plt\n",
    "import numpy as np\n",
    "import math\n",
    "import random\n",
    "from IPython.display import display\n",
    "from ipywidgets import interact\n",
    "%matplotlib inline"
   ]
  },
  {
   "cell_type": "code",
   "execution_count": 2,
   "metadata": {},
   "outputs": [],
   "source": [
    "def distance(city1: dict, city2: dict):\n",
    "    return math.sqrt((city1['x'] - city2['x']) ** 2 + (city1['y'] - city2['y']) ** 2)"
   ]
  },
  {
   "cell_type": "code",
   "execution_count": 3,
   "metadata": {},
   "outputs": [],
   "source": [
    "def plot(paths,points):\n",
    "    num_iters = 1\n",
    "    x = []\n",
    "    y = []\n",
    "    for i in paths[0]:\n",
    "        x.append(points[i][0])\n",
    "        y.append(points[i][1])\n",
    "    plt.plot(x, y, 'co')\n",
    "    a_scale = float(max(x)) / float(100)\n",
    "    if num_iters > 1:\n",
    "        for i in range(1, num_iters):\n",
    "            xi = []\n",
    "            yi = []\n",
    "            for j in paths[i]:\n",
    "                xi.append(points[j][0])\n",
    "                yi.append(points[j][1])\n",
    "\n",
    "            plt.arrow(xi[-1], yi[-1], (xi[0] - xi[-1]), (yi[0] - yi[-1]),\n",
    "                      head_width=a_scale, color='r',\n",
    "                      length_includes_head=True, ls='dashed',\n",
    "                      width=0.001 / float(num_iters))\n",
    "            for i in range(0, len(x) - 1):\n",
    "                plt.arrow(xi[i], yi[i], (xi[i + 1] - xi[i]), (yi[i + 1] - yi[i]),\n",
    "                          head_width=a_scale, color='r', length_includes_head=True,\n",
    "                          ls='dashed', width=0.001 / float(num_iters))\n",
    "    plt.arrow(x[-1], y[-1], (x[0] - x[-1]), (y[0] - y[-1]), head_width=a_scale,\n",
    "              color='g', length_includes_head=True)\n",
    "    for i in range(0, len(x) - 1):\n",
    "        plt.arrow(x[i], y[i], (x[i + 1] - x[i]), (y[i + 1] - y[i]), head_width=a_scale,\n",
    "                  color='g', length_includes_head=True)\n",
    "    plt.xlim(min(x) * 1.1, max(x) * 1.1)\n",
    "    plt.ylim(min(y) * 1.1, max(y) * 1.1)\n",
    "    plt.show()\n"
   ]
  },
  {
   "cell_type": "code",
   "execution_count": 4,
   "metadata": {},
   "outputs": [],
   "source": [
    "def plot_learning(history):\n",
    "    plt.plot([i for i in range(len(history))], history)\n",
    "    plt.show()"
   ]
  },
  {
   "cell_type": "code",
   "execution_count": 5,
   "metadata": {},
   "outputs": [
    {
     "data": {
      "text/plain": [
       "IntText(value=100, description='Шагов:')"
      ]
     },
     "metadata": {},
     "output_type": "display_data"
    },
    {
     "data": {
      "text/plain": [
       "IntText(value=10, description='Кол-во муравьев:')"
      ]
     },
     "metadata": {},
     "output_type": "display_data"
    },
    {
     "data": {
      "text/plain": [
       "FloatText(value=1.0, description='Альфа:')"
      ]
     },
     "metadata": {},
     "output_type": "display_data"
    },
    {
     "data": {
      "text/plain": [
       "FloatText(value=10.0, description='Бета:')"
      ]
     },
     "metadata": {},
     "output_type": "display_data"
    },
    {
     "data": {
      "text/plain": [
       "FloatText(value=0.5, description='RHO')"
      ]
     },
     "metadata": {},
     "output_type": "display_data"
    },
    {
     "data": {
      "text/plain": [
       "FloatText(value=10.0, description='Q')"
      ]
     },
     "metadata": {},
     "output_type": "display_data"
    },
    {
     "data": {
      "text/plain": [
       "Dropdown(description='Стратегия:', options=('Ant-cycle', 'Ant-quality', 'Ant-density'), value='Ant-cycle')"
      ]
     },
     "metadata": {},
     "output_type": "display_data"
    },
    {
     "data": {
      "text/plain": [
       "Checkbox(value=False, description='Случайная инициализация')"
      ]
     },
     "metadata": {},
     "output_type": "display_data"
    },
    {
     "data": {
      "text/plain": [
       "Button(description='Старт', style=ButtonStyle())"
      ]
     },
     "metadata": {},
     "output_type": "display_data"
    },
    {
     "name": "stdout",
     "output_type": "stream",
     "text": [
      "cost: 659.25204793845, path: [29, 27, 6, 5, 7, 35, 3, 4, 36, 42, 38, 37, 9, 15, 24, 0, 1, 2, 16, 10, 17, 18, 11, 12, 14, 13, 20, 21, 8, 19, 25, 26, 22, 23, 43, 44, 41, 30, 39, 40, 34, 31, 32, 33, 28]\n"
     ]
    },
    {
     "data": {
      "image/png": "[encoded data removed]",
      "text/plain": [
       "<Figure size 432x288 with 1 Axes>"
      ]
     },
     "metadata": {
      "needs_background": "light"
     },
     "output_type": "display_data"
    },
    {
     "data": {
      "image/png": "[encoded data removed]",
      "text/plain": [
       "<Figure size 432x288 with 1 Axes>"
      ]
     },
     "metadata": {
      "needs_background": "light"
     },
     "output_type": "display_data"
    },
    {
     "data": {
      "text/plain": [
       "interactive(children=(IntSlider(value=1, description='step', min=1), Output()), _dom_classes=('widget-interact…"
      ]
     },
     "metadata": {},
     "output_type": "display_data"
    }
   ],
   "source": [
    "ants_count = widgets.IntText(\n",
    "    value=10,\n",
    "    description='Кол-во муравьев:',\n",
    "    disabled=False\n",
    ")\n",
    "generations = widgets.IntText(\n",
    "    value=100,\n",
    "    description='Шагов:',\n",
    "    disabled=False\n",
    ")\n",
    "alpha = widgets.FloatText(\n",
    "    value=1,\n",
    "    description='Альфа:',\n",
    "    disabled=False\n",
    ")\n",
    "beta = widgets.FloatText(\n",
    "    value=10,\n",
    "    description='Бета:',\n",
    "    disabled=False\n",
    ")\n",
    "rho = widgets.FloatText(\n",
    "    value=0.5,\n",
    "    description='RHO',\n",
    "    disabled=False\n",
    ")\n",
    "q = widgets.FloatText(\n",
    "    value=10,\n",
    "    description='Q',\n",
    "    disabled=False\n",
    ")\n",
    "strategy = widgets.Dropdown(\n",
    "    options=['Ant-cycle','Ant-quality', 'Ant-density'],\n",
    "    description='Стратегия:'\n",
    ")\n",
    "random_init = widgets.Checkbox(\n",
    "    value=False,\n",
    "    description='Случайная инициализация',\n",
    "    disabled=False\n",
    ")\n",
    "start = widgets.Button(\n",
    "    description='Старт'\n",
    ")\n",
    "\n",
    "def on_button_clicked(b):\n",
    "    cities = []\n",
    "    points = []\n",
    "    if random_init.value:\n",
    "        for i in range(50):\n",
    "            point = (random.uniform(-1000,1000),random.uniform(-1000,1000))\n",
    "            cities.append(dict(index=i, x=point[0], y=point[1]))\n",
    "            points.append((point[0], point[1]))\n",
    "    else:\n",
    "        with open('coord.txt') as f:\n",
    "            for line in f.readlines():\n",
    "                city = line.split(' ')\n",
    "                cities.append(dict(index=float(city[0]), x=float(city[1]), y=float(city[2])))\n",
    "                points.append((float(city[1]), float(city[2])))\n",
    "    cost_matrix = []\n",
    "    rank = len(cities)\n",
    "    for i in range(rank):\n",
    "        row = []\n",
    "        for j in range(rank):\n",
    "            row.append(distance(cities[i], cities[j]))\n",
    "        cost_matrix.append(row)\n",
    "    aco = ACO(ants_count.value, generations.value, alpha.value, beta.value, rho.value, q.value, strategy.options.index(strategy.value))\n",
    "    graph = Graph(cost_matrix, rank)\n",
    "    path, cost = aco.solve(graph)\n",
    "    print('cost: {}, path: {}'.format(cost, path))\n",
    "    plot([path],points)\n",
    "    plot_learning(aco.cost_history)\n",
    "    def build_plot(step):\n",
    "        plot([aco.path_history[step-1]],points)\n",
    "    interact(build_plot, step=widgets.IntSlider(min=1, max=len(aco.path_history), step=1, value=1))\n",
    "display(generations)\n",
    "display(ants_count)\n",
    "start.on_click(on_button_clicked)\n",
    "display(alpha)\n",
    "display(beta)\n",
    "display(rho)\n",
    "display(q)\n",
    "display(strategy)\n",
    "display(random_init)\n",
    "display(start)\n"
   ]
  }
 ],
 "metadata": {
  "kernelspec": {
   "display_name": "Python 3",
   "language": "python",
   "name": "python3"
  },
  "language_info": {
   "codemirror_mode": {
    "name": "ipython",
    "version": 3
   },
   "file_extension": ".py",
   "mimetype": "text/x-python",
   "name": "python",
   "nbconvert_exporter": "python",
   "pygments_lexer": "ipython3",
   "version": "3.6.5"
  }
 },
 "nbformat": 4,
 "nbformat_minor": 1
}
